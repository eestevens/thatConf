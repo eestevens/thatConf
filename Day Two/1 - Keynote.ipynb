{
 "cells": [
  {
   "cell_type": "markdown",
   "metadata": {},
   "source": [
    "## You're not Alone\n",
    "\n",
    "### Taylor Desseyn\n",
    "\n",
    "#### @tdesseyn\n",
    "#### gun.io\n",
    "#### @gundotio"
   ]
  },
  {
   "cell_type": "markdown",
   "metadata": {},
   "source": [
    "### Summary\n",
    "\n",
    "- Not being alone in Job Search\n",
    "- Not being alone in Job\n",
    "- Teams not feeling alone\n",
    "\n",
    "Creating content to make you not feel alone"
   ]
  },
  {
   "cell_type": "markdown",
   "metadata": {},
   "source": [
    "#### Community\n",
    "\n",
    "Being a part of community is a good way to not feel alone\n"
   ]
  },
  {
   "cell_type": "markdown",
   "metadata": {},
   "source": [
    "### Job\n",
    "\n",
    "How do you not feel alone in your job?\n",
    "- Mentor / Mentee opportunities\n",
    "- Potential for growth\n",
    "\n",
    "#### Mentor / Mentee Relationship\n",
    "- If you seek out a mentor, you need to come in with agenda\n",
    "- Make sure you are driving conversation\n",
    "\n",
    "\n",
    "#### Depression\n",
    "- Depression can chip away\n",
    "- Dude felt broken/alone\n",
    "\n",
    "#### Work\n",
    "- Value in 1x1s\n",
    "- Opportunity for subordinates to open up\n",
    "- Reach out to coworkers\n",
    "\n",
    "\n",
    "#### Life\n",
    "- Have humility to know where you are in life\n",
    "\n",
    "\n",
    "#### Leaders\n",
    "- How do you support inclusivity\n",
    "- Keep people from feeling alone\n",
    "- People leave jobs because of management?\n",
    "- Often hear IT leadership is broken\n",
    "    - Broken people leading broken people"
   ]
  }
 ],
 "metadata": {
  "language_info": {
   "name": "python"
  },
  "orig_nbformat": 4
 },
 "nbformat": 4,
 "nbformat_minor": 2
}
