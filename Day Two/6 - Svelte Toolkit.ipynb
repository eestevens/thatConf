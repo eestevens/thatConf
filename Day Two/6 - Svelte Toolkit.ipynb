{
 "cells": [
  {
   "cell_type": "markdown",
   "metadata": {},
   "source": [
    "# Svelte\n",
    "\n",
    "https://learn.svelte.dev/"
   ]
  },
  {
   "cell_type": "markdown",
   "metadata": {},
   "source": [
    "Loading Data in Parallel (app-level)\n",
    "\n",
    "layout.server.js -> 4s\n",
    "page.server.js -> 5s\n",
    "\n",
    "Loading data in parallel (page-level)\n",
    "const data1 = await api.getThing1\n",
    "const dat2 = await api.getThing2\n",
    "\n",
    "\n",
    "better\n",
    "const data1 = api.getThing1\n",
    "const data2 = api.getThing2"
   ]
  },
  {
   "cell_type": "markdown",
   "metadata": {},
   "source": [
    "Dealing with Slow Data\n",
    "\n",
    "Streamed promises\n",
    "\n",
    "const slowApiCall = getSlowData();"
   ]
  },
  {
   "cell_type": "markdown",
   "metadata": {},
   "source": [
    "### Resiliency\n",
    "\n",
    "When JS is not available\n",
    "\n",
    "#### Defaults and Conventions\n",
    "-Want the right thing to be the easy thing\n",
    "\n",
    "- SSR (returning Real HTML)\n",
    "  - using the load function\n",
    "- Using links to navigate\n",
    "- Forms to submit data"
   ]
  },
  {
   "cell_type": "markdown",
   "metadata": {},
   "source": [
    "### Resilient and Efficient\n",
    "\n",
    "- Using forms, app is resilient\n",
    "- Data is loaded after submission, so not efficient"
   ]
  },
  {
   "cell_type": "markdown",
   "metadata": {},
   "source": [
    "Where to next?\n",
    "\n",
    "tutorial : learn.svelte.dev\n",
    "docs : svelte.dv/kit kit.svelte.dev\n",
    "\n",
    "geoffrich.net\n",
    "twitter : @geoffrich_"
   ]
  }
 ],
 "metadata": {
  "language_info": {
   "name": "python"
  },
  "orig_nbformat": 4
 },
 "nbformat": 4,
 "nbformat_minor": 2
}
