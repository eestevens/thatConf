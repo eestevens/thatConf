{
 "cells": [
  {
   "cell_type": "markdown",
   "metadata": {},
   "source": [
    "# Things you Already Know\n",
    "## Improve work/life balance"
   ]
  },
  {
   "cell_type": "markdown",
   "metadata": {},
   "source": [
    "### Learn People\n",
    "\n",
    "Learn to sense and acknowledge who you are so you can interact with those around you better\n",
    "\n",
    "#### You\n",
    "If you know yourself better, you can react better\n",
    "\n",
    "#### Others\n",
    "If you know others, you can communicate better\n"
   ]
  },
  {
   "cell_type": "markdown",
   "metadata": {},
   "source": [
    "### True Colors Test\n",
    "\n",
    "Each sentence has possible endings.  Choose most like you\n",
    "\n",
    "Ex : When I make decisions\n",
    "\n",
    "\n",
    "2. 3, 2, 1, 4\n",
    "3. 4, 2, 3, 1\n",
    "4. 1, 2, 4, 3\n",
    "5. 2, 3, 4, 1\n",
    "6. 1, 3, 4, 2\n",
    "7. 2, 4, 3, 1\n",
    "8. 1, 4, 3, 2\n",
    "9. 2, 1, 4, 3\n",
    "10. 3, 2, 4, 1\n",
    "11. 1, 3, 4, 2\n",
    "\n",
    "Sums : \n",
    "a: 20\n",
    "b: 26\n",
    "c: 34\n",
    "d: 20\n",
    "\n",
    "Top Qualities\n",
    "Blue : Relationships and Authenticity\n",
    "Green : Knowledge and Understanding\n",
    "\n"
   ]
  },
  {
   "cell_type": "markdown",
   "metadata": {},
   "source": [
    "### What can we do?\n",
    "\n",
    "Know yourself\n",
    "- Understand and accept person you are\n",
    "\n",
    "Take Time\n",
    "- Evaluate person and person you're talking to\n",
    "\n",
    "Be patient\n",
    "- Don't be quick to pass judgement\n"
   ]
  },
  {
   "cell_type": "markdown",
   "metadata": {},
   "source": [
    "### Find your Passion\n",
    "\n",
    "What is the underlying thing that gives you joy?"
   ]
  },
  {
   "cell_type": "markdown",
   "metadata": {},
   "source": [
    "### Your turn\n",
    "\n",
    "Every Job You've had Outside of high school\n",
    "- Soccer Ref\n",
    "- Bread store\n",
    "- Cafeteria\n",
    "- Intern\n",
    "Every Extra Cirricular\n",
    "- Sports\n",
    "- Bible study\n",
    "\n",
    "\n",
    "\n",
    "#### Common Threads\n",
    "- Food\n",
    "- People"
   ]
  }
 ],
 "metadata": {
  "language_info": {
   "name": "python"
  },
  "orig_nbformat": 4
 },
 "nbformat": 4,
 "nbformat_minor": 2
}
