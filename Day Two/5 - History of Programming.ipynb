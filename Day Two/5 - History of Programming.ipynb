{
 "cells": [
  {
   "cell_type": "markdown",
   "metadata": {},
   "source": [
    "# History of Programming\n",
    "\n",
    "@bascodes\n",
    "\n",
    "https://bas.io\n",
    "https://bas.surf/that23-history"
   ]
  },
  {
   "cell_type": "markdown",
   "metadata": {},
   "source": [
    "### Early Computers\n",
    "\n",
    "Machines, polynomial calculators"
   ]
  },
  {
   "cell_type": "markdown",
   "metadata": {},
   "source": [
    "### Modern\n",
    "\n",
    "1947 - Transistor invented"
   ]
  },
  {
   "cell_type": "markdown",
   "metadata": {},
   "source": [
    "### Breakthrough\n",
    "\n",
    "Calculator that used microchip"
   ]
  },
  {
   "cell_type": "markdown",
   "metadata": {},
   "source": [
    "### Ties to modern programming"
   ]
  },
  {
   "cell_type": "markdown",
   "metadata": {},
   "source": [
    "### Perspective\n",
    "\n",
    "1770 : Mechanical turk\n",
    "Difference Engine\n",
    "Zuse Z1\n",
    "Transistor\n",
    "First Man on the moon/ intel 4004\n",
    "2016 : half the world is online\n",
    "\n",
    "\n",
    "1770 : automation is born\n",
    "168 years to build computer.\n",
    "\n",
    "22 years between transistor and moon landing"
   ]
  },
  {
   "cell_type": "markdown",
   "metadata": {},
   "source": [
    "### 1950s (3 A.T... After Transistor)\n",
    "\n",
    "\"short code\"\n",
    "\n",
    "\"Modern Assembler\"\n",
    "\n",
    "\"Lingua Franca\" -> ALGOL"
   ]
  },
  {
   "cell_type": "markdown",
   "metadata": {},
   "source": [
    "### 1960s\n",
    "\n",
    "LISP : John McCarthy (1960)\n",
    " - Javascript created as LISP\n",
    "\n",
    "Basic : 1963\n",
    "\n",
    "APL : 1966"
   ]
  },
  {
   "cell_type": "markdown",
   "metadata": {},
   "source": [
    "### 1970's\n",
    "\n",
    "C : 1970\n",
    "\n",
    "Smalltalk : 1972\n",
    "\n",
    "Scheme : 1975\n"
   ]
  },
  {
   "cell_type": "markdown",
   "metadata": {},
   "source": [
    "### 1980's\n",
    "\n",
    "SICP : Book where half of book is about assigning variable, and it still apologizes for it\n",
    "\n",
    "HyperTalk : 1987\n",
    "What if we could program using the English language?\n",
    "\n",
    "\"When someone says 'I want a programming language in which i need only say what I wish done', give him a lollipop\""
   ]
  },
  {
   "cell_type": "markdown",
   "metadata": {},
   "source": [
    "### Present Times\n",
    "\n",
    "Gordon Moore\n",
    "Moore's Law : The number of transistors on microchips doubles every two years\n",
    "\n",
    "Today's Problems : \n",
    "- Declarative\n",
    "- Multi Core Problem\n",
    "- Memory Safe"
   ]
  },
  {
   "cell_type": "markdown",
   "metadata": {},
   "source": [
    "### Paradigms Impose Restrictions\n",
    "\n",
    "Structured Programming vs OOP vs Functional Programming\n",
    "\n",
    "SP restricts direct transfer of control\n",
    "OOP restricts indirect transfer of control\n",
    "FP restricts assignment\n",
    "\n",
    "SP : The C programming language\n",
    "OOP : Object Oriented Design with Applications\n",
    "FP : SICP"
   ]
  }
 ],
 "metadata": {
  "language_info": {
   "name": "python"
  },
  "orig_nbformat": 4
 },
 "nbformat": 4,
 "nbformat_minor": 2
}
