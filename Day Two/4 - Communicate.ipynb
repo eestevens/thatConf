{
 "cells": [
  {
   "cell_type": "markdown",
   "metadata": {},
   "source": [
    "# Communicate Good so People do the Things\n",
    "\n",
    "### Kelly Grosskreutz\n",
    "#### Hype person"
   ]
  },
  {
   "cell_type": "markdown",
   "metadata": {},
   "source": [
    "### 4 Step Process...ish"
   ]
  },
  {
   "cell_type": "markdown",
   "metadata": {},
   "source": [
    "### Step 0 : Embrace the Truth\n",
    "\n",
    "Humans are resilient, creative, stubborn, who will find their own way\n",
    "\n",
    "The lie we tell ourselves\n",
    "\"I'm not good at technology, I just won't get this...\"\n",
    "- Great at it when it's something we are passionate about\n",
    "\n",
    "How does this show up in a professional environment?"
   ]
  },
  {
   "cell_type": "markdown",
   "metadata": {},
   "source": [
    "### Step 1 : Figure out what's in it for them\n",
    "\n",
    "Listen to their story\n",
    "AKA : What is the ACTUAL problem?\n",
    "\n",
    "Demonstrate you understand the problem"
   ]
  },
  {
   "cell_type": "markdown",
   "metadata": {},
   "source": [
    "### Step 2 : Defining what Success looks like\n",
    "\n",
    "Problem : switching to headset/voip instead of phone\n",
    "Success : guy who is annoyed that headset didn't fit\n",
    "Failure : guy who complained about headset being \"taken away\"\n",
    "\n",
    "#### Early Awareness, Desire, and Excitement\n",
    "- Awareness : Create a positive buzz.... or any kind of buzz\n",
    "- Desire : Key in on what's in it for them\n",
    "- Knowledge : Provide information\n",
    "\n",
    "If it gets weird, you're doing something right"
   ]
  },
  {
   "cell_type": "markdown",
   "metadata": {},
   "source": [
    "### Step 3 : Use simple, clear language\n",
    "\n",
    "Talk to people like people\n",
    "- IYKYK\n",
    "- IMHO\n",
    "- TLDR\n",
    "- ATC\n",
    "- LOL\n",
    "\n",
    "Do not just assume people will \"just get it\"\n",
    "\n",
    "Ex : \n",
    "Document storage\n",
    "Stuff for everyone -> sharepoint\n",
    "Team stuff -> Teams/Sharepoint\n",
    "My stuff -> Onedrive"
   ]
  },
  {
   "cell_type": "markdown",
   "metadata": {},
   "source": [
    "### Step 4 : Be prepared to get it wrong... a lot\n",
    "\n",
    "Absorbing what's going on and open to growth and improvement"
   ]
  }
 ],
 "metadata": {
  "language_info": {
   "name": "python"
  },
  "orig_nbformat": 4
 },
 "nbformat": 4,
 "nbformat_minor": 2
}
