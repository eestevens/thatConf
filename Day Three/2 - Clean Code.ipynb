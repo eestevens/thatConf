{
 "cells": [
  {
   "cell_type": "markdown",
   "metadata": {},
   "source": [
    "# Clean Code Protocol\n",
    "\n",
    "### Usha Kucibhotla\n",
    "#### Engineering Manager, Sculptor Capital"
   ]
  },
  {
   "cell_type": "markdown",
   "metadata": {},
   "source": [
    "### Why?\n",
    "\n",
    "Want to make sure code is easy to implement, test, change"
   ]
  },
  {
   "cell_type": "markdown",
   "metadata": {},
   "source": [
    "### Overview\n",
    "\n",
    "1. What is clean code\n",
    "2. Why is it important\n",
    "3. How do you get started?\n",
    "4. How do you get your team started?"
   ]
  },
  {
   "cell_type": "markdown",
   "metadata": {},
   "source": [
    "### Resources\n",
    "\n",
    "Clean Code - Bob Martin"
   ]
  },
  {
   "cell_type": "markdown",
   "metadata": {},
   "source": [
    "### What is it?\n",
    "\n",
    "- Readability\n",
    "- Simplicity\n",
    "- Consistent Style\n",
    "- Comments and Documentation\n",
    "- Minimal Dependencies\n",
    "- Testability\n",
    "- Modularity\n",
    "- Refactoring"
   ]
  },
  {
   "cell_type": "markdown",
   "metadata": {},
   "source": [
    "### Why is it Important?\n",
    "\n",
    "- Organized and cohesive\n",
    "- Fewer bugs\n",
    "- Better collaboration\n",
    "- better releases\n",
    "\n",
    "Examples\n",
    "- Code isn't readable\n",
    "- Code does multiple things\n",
    "- Improvement still contains business logic\n",
    "- If code is used in multiple classes, it can become less clean (third party api example).  Solution is to have client interface"
   ]
  },
  {
   "cell_type": "markdown",
   "metadata": {},
   "source": [
    "### How to get started\n",
    "\n",
    "- It's a process\n",
    "- It's a principle\n",
    "\n",
    "#### Take Small Steps\n",
    "- Attainable goals\n",
    "- Read Clean Code"
   ]
  },
  {
   "cell_type": "markdown",
   "metadata": {},
   "source": [
    "### Observe\n",
    "\n",
    "- Single Responsibility Principle\n",
    "\n",
    "Example : \n",
    "Data Processor class that does validation\n",
    "Fixed : Data Processor class that does data validation"
   ]
  },
  {
   "cell_type": "markdown",
   "metadata": {},
   "source": [
    "### Pair Programming\n",
    "\n",
    "- Programming is a team sport\n",
    "- Learning together makes it fun"
   ]
  },
  {
   "cell_type": "markdown",
   "metadata": {},
   "source": [
    "### Championing\n",
    "\n",
    "- Be the first clean code champion\n",
    "- Identify 4 easy wins for the team\n",
    "- Set up periodic meetings\n",
    "- Ensure new code is clean"
   ]
  },
  {
   "cell_type": "markdown",
   "metadata": {},
   "source": [
    "### Documentation\n",
    "\n",
    "- Make it skimmable\n",
    "- Give practical examples\n",
    "- Leverage style guides and linters\n",
    "- Advertise!"
   ]
  },
  {
   "cell_type": "markdown",
   "metadata": {},
   "source": [
    "### Enforce\n",
    "\n",
    "- Lead by example\n",
    "- Pair Program"
   ]
  }
 ],
 "metadata": {
  "language_info": {
   "name": "python"
  },
  "orig_nbformat": 4
 },
 "nbformat": 4,
 "nbformat_minor": 2
}
