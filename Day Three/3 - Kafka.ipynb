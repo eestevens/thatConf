{
 "cells": [
  {
   "cell_type": "markdown",
   "metadata": {},
   "source": [
    "# Case Studies in Kafka\n",
    "\n",
    "### Tracey Barrett\n",
    "#### SVP, Wisconsin - Nvisia"
   ]
  },
  {
   "cell_type": "markdown",
   "metadata": {},
   "source": [
    "### Goals\n",
    "\n",
    "- How companies are using Kafka\n",
    "- Why they chose it\n",
    "- Risks\n",
    "- Follow up from 2019"
   ]
  },
  {
   "cell_type": "markdown",
   "metadata": {},
   "source": [
    "### Brief intro to Kafka\n",
    "\n",
    "- Open source\n",
    "- Stream processing software platform\n",
    "- Developed by linked in\n",
    "- Java/scala\n",
    "\n",
    "#### Capabilities\n",
    "\n",
    "- Publish and subscribe to streams of records\n",
    "- Store streams of records in fault tolerant, durable way\n",
    "- Process streams of records as they occur"
   ]
  },
  {
   "cell_type": "markdown",
   "metadata": {},
   "source": [
    "### Kafka vs Message Queues\n",
    "\n",
    "- in standard queue, message disappears after being read\n",
    "- Kafka is pub-sub\n",
    "  - Event is persistent and can be received by any number of listeners / subscribers / message handlers"
   ]
  },
  {
   "cell_type": "markdown",
   "metadata": {},
   "source": [
    "### Terminology\n",
    "\n",
    "- Event : action that occurs to trigger publishing\n",
    "- Record \n",
    "- Stream"
   ]
  },
  {
   "cell_type": "markdown",
   "metadata": {},
   "source": [
    "### Common Uses\n",
    "\n",
    "- Log aggregation (original use)\n",
    "- Data replication - move to where it's needed\n",
    "- statistical analysis (stream processing)\n",
    "- Facilitating event driven architecture"
   ]
  },
  {
   "cell_type": "markdown",
   "metadata": {},
   "source": [
    "### Event Driven Architecture\n",
    "\n",
    "#### Motion Detection\n",
    "\n",
    "- Event : Walking into room"
   ]
  },
  {
   "cell_type": "markdown",
   "metadata": {},
   "source": [
    "### Business Workflow\n",
    "\n",
    "#### Payment Service - Classical\n",
    "\n",
    "- Charge Card -> credit card processor\n",
    "- Update Account -> Billing system\n",
    "- Update Ledger -> accounting system\n",
    "- Send Confirmation -> email system"
   ]
  },
  {
   "cell_type": "markdown",
   "metadata": {},
   "source": [
    "### Event Driven Workflow\n",
    "\n",
    "- Payment Service -> charge card -> credit card processor\n",
    "- The rest of the actions are event driven\n",
    "\n",
    "\n",
    "#### Impacts of design\n",
    "- Responded to user much earlier in the process\n",
    "- Decoupled systems from each other\n",
    "- Downside : \n",
    "  - Lost clearly articulated steps of the process"
   ]
  },
  {
   "cell_type": "markdown",
   "metadata": {},
   "source": [
    "### Takeaway Spoilers\n",
    "\n",
    "- Tech works amazingly well and is super high performing\n",
    "\n",
    "- People are the problem\n",
    "\n",
    "- People handle the people problems involved in a single solution\n",
    "\n",
    "- Enterprise implementations are a challenge\n"
   ]
  }
 ],
 "metadata": {
  "language_info": {
   "name": "python"
  },
  "orig_nbformat": 4
 },
 "nbformat": 4,
 "nbformat_minor": 2
}
