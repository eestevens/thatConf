{
 "cells": [
  {
   "cell_type": "markdown",
   "metadata": {},
   "source": [
    "### 4:00\n",
    "## J.D. Hillen\n",
    "## Desktop Applications with Javascript\n",
    "### Software Engineer II @ Garmin\n",
    "### Code Coffee Metal\n",
    "\n",
    "https://links.jdhillen.com \n",
    "\n"
   ]
  },
  {
   "cell_type": "markdown",
   "metadata": {},
   "source": [
    "### Slides\n",
    "[Slides](https://docs.google.com/presentation/d/1icvbVl4W1HqfSLNGFbx6f0yeoA1qIxjfwS-IMHNNeeA/edit?pli=1#slide=id.p)\n"
   ]
  },
  {
   "cell_type": "markdown",
   "metadata": {},
   "source": [
    "### What is Electron?\n",
    "\n",
    "1. Open source\n",
    "2. Leverage web skills for cross-platform desktop apps\n",
    "3. Chromium + node.js\n",
    "4. Package/distribute apps\n",
    "5. Thriving community\n",
    "\n",
    "Created 2013"
   ]
  },
  {
   "cell_type": "markdown",
   "metadata": {},
   "source": [
    "### Main Process\n",
    "\n",
    "1. Entry point of an electron.js app\n",
    "2. Runs Node.Js and represents the app's backend\n",
    "3. Controls the lifecycle of the app\n",
    "4. Handles tasks like creating windows or managing menus\n",
    "5. Has access to Electron.js API and Node.js modules"
   ]
  },
  {
   "cell_type": "markdown",
   "metadata": {},
   "source": [
    "### Node\n",
    "\n",
    "Renderer process\n",
    "1. Displays the app's user interface\n",
    "2. Corresponds to a web page or window\n",
    "3. Runs in chromium\n",
    "4. Handles logic, user interactions, and rendering\n",
    "5. Processes are isolated\n",
    "6. Communication between the main process and renderer are handled by Electron\n"
   ]
  },
  {
   "cell_type": "markdown",
   "metadata": {},
   "source": [
    "### Pros\n",
    "\n",
    "1. Cross Platform\n",
    "2. Web Dev skills\n",
    "3. Native-like experience\n",
    "4. Active Community\n",
    "5. Code reusability\n",
    "\n",
    "### Cons\n",
    "1. Performance Overhead\n",
    "2. Learning Curve\n",
    "3. Distribution Size\n",
    "4. Limited UI Customization\n",
    "5. Debugging Complexity"
   ]
  },
  {
   "cell_type": "markdown",
   "metadata": {},
   "source": [
    "#### Frameworks\n",
    "Any you want\n",
    "\n",
    "#### Installation\n",
    "install : npm install electron\n",
    "add \"preload.js\""
   ]
  },
  {
   "cell_type": "markdown",
   "metadata": {},
   "source": [
    "### Electron Forge\n",
    "\n",
    "Quick Scaffolding an electron project with a full build pipeline"
   ]
  },
  {
   "cell_type": "markdown",
   "metadata": {},
   "source": [
    "### Building\n",
    "\n",
    "Npm toolkit\n",
    "- \"npm run make\""
   ]
  },
  {
   "cell_type": "markdown",
   "metadata": {},
   "source": [
    "### Customizing your App\n",
    "\n",
    "Ways to make your app awesome\n",
    " - Device Access\n",
    "   - Bluetooth\n",
    "   - Web USB\n",
    " - Dark Mode\n",
    " - Native File Drag and Drop\n",
    " - More"
   ]
  },
  {
   "cell_type": "markdown",
   "metadata": {},
   "source": [
    "### Tauri\n",
    "\n",
    "Build an optimized, secure, and frontend-independent application for multi-platfor development"
   ]
  },
  {
   "cell_type": "markdown",
   "metadata": {},
   "source": [
    "### Performance Optimization\n",
    "\n",
    "- Monitor CPU Usage to identify performance bottlenecks\n",
    "- Manage Memory Consumption\n",
    "- Optimize Rendering performance"
   ]
  },
  {
   "cell_type": "markdown",
   "metadata": {},
   "source": [
    "### Testing & Debugging\n",
    "\n",
    "- Testing Frameworks\n",
    "  - Spectron\n",
    "  - Cypress\n",
    "  - Vitest\n",
    "  - Playwrite\n",
    "- Debugging Tools\n",
    "  - Chrome Dev Tools\n",
    "- Error Handling and Logging\n",
    "  - Sentry\n",
    "  - log4js"
   ]
  },
  {
   "cell_type": "markdown",
   "metadata": {},
   "source": [
    "### Security Considerations\n",
    "\n",
    "- Secure External Content\n",
    "- Secure Communication\n",
    "- Secure Native Node.js Integration"
   ]
  },
  {
   "cell_type": "markdown",
   "metadata": {},
   "source": [
    "### In Summary\n",
    "- Cross Platform Capability\n",
    "- Web Technology Familiarity\n",
    "- Access to Native APIs and Resources (through Node)\n",
    "- Vibrant Ecosystem/Community\n",
    "- Rapid Prototyping and Iteration"
   ]
  }
 ],
 "metadata": {
  "language_info": {
   "name": "python"
  },
  "orig_nbformat": 4
 },
 "nbformat": 4,
 "nbformat_minor": 2
}
