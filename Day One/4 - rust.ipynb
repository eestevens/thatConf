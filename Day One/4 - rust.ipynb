{
 "cells": [
  {
   "cell_type": "markdown",
   "metadata": {},
   "source": [
    "### 2:30 PM \n",
    "## A Practical Guide to Rust\n",
    "\n",
    "[@hummusonrails](https://twitter.com/hummusonrails)\n",
    "\n",
    "How do you start learning Rust?\n",
    " 1. Getting started\n",
    " 2. Rust Syntax\n",
    " 3. Ownership\n",
    " 4. Generics\n",
    "\n",
    "Major Differences\n",
    " - Javascript, Python, Ruby\n",
    "  - Interpreted, dynamic typing, garbage collection\n",
    " - Rust\n",
    "  - Compiled\n",
    "  - Static typing\n",
    "  - Manual Memory management\n",
    "   - Requires deliberate development\n",
    "\n",
    "Developer Ecosystem\n",
    " - Rust is on its seventh year as the most loved language (87% of developers say they want to continue using it)\n",
    " - Web dev, async, serialization, blokchain, DB, crypto libraries\n",
    " - Package Manager / build tool : Cargo\n",
    " - Package registry / Crate\n",
    "  - cargo new, cargo build, cargo run, cargo test"
   ]
  },
  {
   "cell_type": "code",
   "execution_count": null,
   "metadata": {
    "vscode": {
     "languageId": "rust"
    }
   },
   "outputs": [],
   "source": [
    "fn greet(name : &str) -> String { // str and String are different\n",
    "    let message = if !name.is_empty() {\n",
    "        format!(\"Hello, {}!\", name)\n",
    "    } else {\n",
    "        \"Hello, stranger!\".to_string()\n",
    "    };\n",
    "    message\n",
    "}\n",
    "\n",
    "fn main() {\n",
    "    let names = vec![\"Alice\", \"Bob\", \"\", \"Eve\"];\n",
    "    for name in names {\n",
    "        println(\"{}\", greet(name));\n",
    "    }\n",
    "}"
   ]
  },
  {
   "cell_type": "markdown",
   "metadata": {},
   "source": [
    "### Type System\n",
    "\n",
    "#### Ruby\n",
    "- add integers does mathematical add\n",
    "- add strings concatenates\n",
    "#### Rust\n",
    " - Compiler error"
   ]
  },
  {
   "cell_type": "markdown",
   "metadata": {},
   "source": [
    "### Memory and Ownership\n",
    "\n",
    "#### Memory Management\n",
    "-  As soon as variable is out of scope, it's gone\n",
    "\n",
    "- Javascript relies on garbage collection to free memory from previous large arrays, which may introduce performance overhead\n",
    "- Rust deallocates memory as soon as it's no longer needed, providing efficient and deterministic memory management\n",
    "\n",
    "#### Ownership\n",
    "- allows you to set mutable variables, so that they can be changed within functions"
   ]
  },
  {
   "cell_type": "markdown",
   "metadata": {},
   "source": [
    "### Generics\n",
    "\n",
    "#### What are generics?\n",
    " - They allow writing flexible, reusable, and type-safe code without specifying concrete data types\n",
    " - Create functions, structs, enums, and traits that work with multiple data types\n",
    "\n",
    "#### Why use generics?\n",
    " - Generics provide a way to achieve flexibilty\n"
   ]
  },
  {
   "cell_type": "markdown",
   "metadata": {},
   "source": [
    "### Continue Learning\n",
    "\n",
    "The Rust Book\n",
    "https://www.rust-lang.org/learn\n",
    "https://rust-book.cs.brown.edu/\n",
    "github.com/rust-lang/rustlings"
   ]
  }
 ],
 "metadata": {
  "language_info": {
   "name": "python"
  },
  "orig_nbformat": 4
 },
 "nbformat": 4,
 "nbformat_minor": 2
}
